{
  "nbformat": 4,
  "nbformat_minor": 0,
  "metadata": {
    "colab": {
      "provenance": []
    },
    "kernelspec": {
      "name": "python3",
      "display_name": "Python 3"
    },
    "language_info": {
      "name": "python"
    }
  },
  "cells": [
    {
      "cell_type": "markdown",
      "source": [
        "Write a program to distinguish between Array Indexing and Fancy Indexing."
      ],
      "metadata": {
        "id": "DFO3Trf7HESL"
      }
    },
    {
      "cell_type": "code",
      "execution_count": 1,
      "metadata": {
        "id": "p88T8ekgG12W",
        "colab": {
          "base_uri": "https://localhost:8080/",
          "height": 0
        },
        "outputId": "7c21e9bf-89f7-4c0d-a447-95de5165301a"
      },
      "outputs": [
        {
          "output_type": "stream",
          "name": "stdout",
          "text": [
            "Simple indexing: 3\n",
            "Fancy indexing: [2 4]\n",
            "Type of simple indexing: <class 'numpy.int64'>\n",
            "Type of fancy indexing: <class 'numpy.ndarray'>\n"
          ]
        }
      ],
      "source": [
        "import numpy as np\n",
        "\n",
        "# Create a NumPy array with some random values\n",
        "arr = np.array([1, 2, 3, 4, 5])\n",
        "\n",
        "# Access a single element of the array using simple indexing\n",
        "simple_indexing = arr[2]\n",
        "print(\"Simple indexing:\", simple_indexing)\n",
        "\n",
        "# Access multiple elements of the array using fancy indexing\n",
        "fancy_indexing = arr[[1, 3]]\n",
        "print(\"Fancy indexing:\", fancy_indexing)\n",
        "\n",
        "# Print the type of the result of each indexing method\n",
        "print(\"Type of simple indexing:\", type(simple_indexing))\n",
        "print(\"Type of fancy indexing:\", type(fancy_indexing))"
      ]
    },
    {
      "cell_type": "markdown",
      "source": [
        "Execute the 2D array Slicing."
      ],
      "metadata": {
        "id": "UpaMFmEyHNFN"
      }
    },
    {
      "cell_type": "code",
      "source": [
        "import numpy as np\n",
        "\n",
        "# Create a 2D NumPy array with some random values\n",
        "arr = np.array([[1, 2, 3], [4, 5, 6], [7, 8, 9]])\n",
        "\n",
        "# Use array slicing to extract a subset of the array\n",
        "sliced_arr = arr[1:, :2]\n",
        "\n",
        "# Print the original array and the sliced array\n",
        "print(\"Original array:\")\n",
        "print(arr)\n",
        "print(\"Sliced array:\")\n",
        "print(sliced_arr)"
      ],
      "metadata": {
        "id": "rpyzMkQcHTk_",
        "colab": {
          "base_uri": "https://localhost:8080/",
          "height": 0
        },
        "outputId": "cabe92a4-306a-4ebb-cf3a-278eab53d40c"
      },
      "execution_count": 2,
      "outputs": [
        {
          "output_type": "stream",
          "name": "stdout",
          "text": [
            "Original array:\n",
            "[[1 2 3]\n",
            " [4 5 6]\n",
            " [7 8 9]]\n",
            "Sliced array:\n",
            "[[4 5]\n",
            " [7 8]]\n"
          ]
        }
      ]
    },
    {
      "cell_type": "markdown",
      "source": [
        "Create the 5-Dimensional arrays using ‘ndmin’."
      ],
      "metadata": {
        "id": "E5kufuWuHT9v"
      }
    },
    {
      "cell_type": "code",
      "source": [
        "import numpy as np\n",
        "\n",
        "# Create a 1D NumPy array with some random values\n",
        "arr = np.array([1, 2, 3, 4, 5])\n",
        "\n",
        "# Use ndmin to create a 5-dimensional array\n",
        "five_dim_arr = np.array(arr, ndmin=5)\n",
        "\n",
        "# Print the original array and the 5-dimensional array\n",
        "print(\"Original array:\")\n",
        "print(arr)\n",
        "print(\"5-dimensional array:\")\n",
        "print(five_dim_arr)"
      ],
      "metadata": {
        "id": "RpUiHxD4HX07",
        "colab": {
          "base_uri": "https://localhost:8080/",
          "height": 0
        },
        "outputId": "f2f77fe5-ac58-43f7-9c98-777260c02029"
      },
      "execution_count": 3,
      "outputs": [
        {
          "output_type": "stream",
          "name": "stdout",
          "text": [
            "Original array:\n",
            "[1 2 3 4 5]\n",
            "5-dimensional array:\n",
            "[[[[[1 2 3 4 5]]]]]\n"
          ]
        }
      ]
    },
    {
      "cell_type": "markdown",
      "source": [
        "Reshape the array from 1-D to 2-D array."
      ],
      "metadata": {
        "id": "I0fLFEz4HYLS"
      }
    },
    {
      "cell_type": "code",
      "source": [
        "import numpy as np\n",
        "\n",
        "# Create a 1D NumPy array with some random values\n",
        "arr = np.array([1, 2, 3, 4, 5, 6])\n",
        "\n",
        "# Use the reshape() method to convert the 1D array to a 2D array\n",
        "reshaped_arr = arr.reshape(2, 3)\n",
        "\n",
        "# Print the original array and the reshaped array\n",
        "print(\"Original array:\")\n",
        "print(arr)\n",
        "print(\"Reshaped array:\")\n",
        "print(reshaped_arr)"
      ],
      "metadata": {
        "id": "t_RMOS_zHbcb",
        "colab": {
          "base_uri": "https://localhost:8080/",
          "height": 0
        },
        "outputId": "4014454f-c216-45f9-95c8-6973ad8ddea5"
      },
      "execution_count": 4,
      "outputs": [
        {
          "output_type": "stream",
          "name": "stdout",
          "text": [
            "Original array:\n",
            "[1 2 3 4 5 6]\n",
            "Reshaped array:\n",
            "[[1 2 3]\n",
            " [4 5 6]]\n"
          ]
        }
      ]
    },
    {
      "cell_type": "markdown",
      "source": [
        "Perform the Stack functions in Numpy arrays – Stack(), hstack(), vstack(), and dstack()."
      ],
      "metadata": {
        "id": "HgBOZ6bgHcDl"
      }
    },
    {
      "cell_type": "code",
      "source": [
        "import numpy as np\n",
        "\n",
        "# Create two 1D arrays\n",
        "a = np.array([1, 2, 3])\n",
        "b = np.array([4, 5, 6])\n",
        "\n",
        "# Stack the arrays vertically\n",
        "vstacked = np.vstack((a, b))\n",
        "print(\"Vertical stacking:\")\n",
        "print(vstacked)\n",
        "\n",
        "# Stack the arrays horizontally\n",
        "hstacked = np.hstack((a, b))\n",
        "print(\"Horizontal stacking:\")\n",
        "print(hstacked)\n",
        "\n",
        "# Create two 2D arrays\n",
        "c = np.array([[1], [2], [3]])\n",
        "d = np.array([[4], [5], [6]])\n",
        "\n",
        "# Stack the arrays depth-wise\n",
        "dstacked = np.dstack((c, d))\n",
        "print(\"Depth-wise stacking:\")\n",
        "print(dstacked)"
      ],
      "metadata": {
        "id": "lQR28uV_Hf3-",
        "colab": {
          "base_uri": "https://localhost:8080/",
          "height": 0
        },
        "outputId": "01b95864-1ef2-44ad-c0e0-f8201d59d3b0"
      },
      "execution_count": 5,
      "outputs": [
        {
          "output_type": "stream",
          "name": "stdout",
          "text": [
            "Vertical stacking:\n",
            "[[1 2 3]\n",
            " [4 5 6]]\n",
            "Horizontal stacking:\n",
            "[1 2 3 4 5 6]\n",
            "Depth-wise stacking:\n",
            "[[[1 4]]\n",
            "\n",
            " [[2 5]]\n",
            "\n",
            " [[3 6]]]\n"
          ]
        }
      ]
    },
    {
      "cell_type": "markdown",
      "source": [
        "Perform the searchsort method in Numpy array."
      ],
      "metadata": {
        "id": "Pq_1ULw5HgJV"
      }
    },
    {
      "cell_type": "code",
      "source": [
        "import numpy as np\n",
        "\n",
        "# Create a sorted 1D NumPy array\n",
        "arr = np.array([1, 2, 3, 4, 5, 6, 7, 8, 9, 10])\n",
        "\n",
        "# Use searchsorted() to find the index of a value in the array\n",
        "index = np.searchsorted(arr, 5)\n",
        "\n",
        "# Print the index\n",
        "print(\"Index of 5 in the array:\", index)"
      ],
      "metadata": {
        "id": "s9tgRUKFHiiQ",
        "colab": {
          "base_uri": "https://localhost:8080/",
          "height": 0
        },
        "outputId": "62224c16-af89-4420-a34a-b7ece575ac1f"
      },
      "execution_count": 6,
      "outputs": [
        {
          "output_type": "stream",
          "name": "stdout",
          "text": [
            "Index of 5 in the array: 4\n"
          ]
        }
      ]
    },
    {
      "cell_type": "markdown",
      "source": [
        "Create Numpy Structured array using your domain features."
      ],
      "metadata": {
        "id": "AOm3c-yAHi5H"
      }
    },
    {
      "cell_type": "code",
      "source": [
        "import numpy as np\n",
        "\n",
        "# Create a structured array\n",
        "data = np.array([\n",
        "    ('WhatsApp', 'Communication', 4.4, 'Free'),\n",
        "    ('Instagram', 'Social', 4.5, 'Free'),\n",
        "    ('Spotify', 'Music', 4.6, 'Free'),\n",
        "    ('Candy Crush Saga', 'Games', 4.3, 'Free'),\n",
        "    ('Zoom', 'Business', 4.2, 'Free')],\n",
        "    dtype=[('app_name', 'U20'), ('category', 'U20'), ('rating', 'f4'), ('price', 'U10')])\n",
        "\n",
        "# Print the structured array\n",
        "print(data)"
      ],
      "metadata": {
        "id": "qVfifZ2nHlYA",
        "colab": {
          "base_uri": "https://localhost:8080/",
          "height": 0
        },
        "outputId": "e3b5bdcf-ae20-43b9-d896-f71dd1095dd3"
      },
      "execution_count": 7,
      "outputs": [
        {
          "output_type": "stream",
          "name": "stdout",
          "text": [
            "[('WhatsApp', 'Communication', 4.4, 'Free')\n",
            " ('Instagram', 'Social', 4.5, 'Free') ('Spotify', 'Music', 4.6, 'Free')\n",
            " ('Candy Crush Saga', 'Games', 4.3, 'Free')\n",
            " ('Zoom', 'Business', 4.2, 'Free')]\n"
          ]
        }
      ]
    },
    {
      "cell_type": "markdown",
      "source": [
        "Create Data frame using List and Dictionary."
      ],
      "metadata": {
        "id": "_BQxmqxeHmCU"
      }
    },
    {
      "cell_type": "code",
      "source": [
        "import pandas as pd\n",
        "\n",
        "# Create a list of dictionaries\n",
        "data = [\n",
        "    {'app_name': 'WhatsApp', 'category': 'Communication', 'rating': 4.4, 'price': 'Free'},\n",
        "    {'app_name': 'Instagram', 'category': 'Social', 'rating': 4.5, 'price': 'Free'},\n",
        "    {'app_name': 'Spotify', 'category': 'Music', 'rating': 4.6, 'price': 'Free'},\n",
        "    {'app_name': 'Candy Crush Saga', 'category': 'Games', 'rating': 4.3, 'price': 'Free'},\n",
        "    {'app_name': 'Zoom', 'category': 'Business', 'rating': 4.2, 'price': 'Free'}\n",
        "]\n",
        "\n",
        "# Create a DataFrame from the list of dictionaries\n",
        "df = pd.DataFrame(data)\n",
        "\n",
        "# Print the DataFrame\n",
        "print(df)"
      ],
      "metadata": {
        "id": "OBIbEQRrHo0j",
        "colab": {
          "base_uri": "https://localhost:8080/",
          "height": 0
        },
        "outputId": "0320cc92-fc03-446a-c3ab-73354ba4fc16"
      },
      "execution_count": 8,
      "outputs": [
        {
          "output_type": "stream",
          "name": "stdout",
          "text": [
            "           app_name       category  rating price\n",
            "0          WhatsApp  Communication     4.4  Free\n",
            "1         Instagram         Social     4.5  Free\n",
            "2           Spotify          Music     4.6  Free\n",
            "3  Candy Crush Saga          Games     4.3  Free\n",
            "4              Zoom       Business     4.2  Free\n"
          ]
        }
      ]
    },
    {
      "cell_type": "markdown",
      "source": [
        "Create Data frame on your Domain area and perform the following operations to find and eliminate the\n",
        "missing data from the dataset.\n",
        "• isnull()\n",
        "• notnull()\n",
        "• dropna()\n",
        "• fillna()\n",
        "• replace()\n",
        "• interpolate()"
      ],
      "metadata": {
        "id": "oBzJrdk5HpHk"
      }
    },
    {
      "cell_type": "code",
      "source": [
        "import pandas as pd\n",
        "import numpy as np\n",
        "\n",
        "# Create a list of dictionaries\n",
        "data = [\n",
        "    {'app_name': 'WhatsApp', 'category': 'Communication', 'rating': 4.4, 'price': 'Free'},\n",
        "    {'app_name': 'Instagram', 'category': 'Social', 'rating': np.nan, 'price': 'Free'},\n",
        "    {'app_name': 'Spotify', 'category': 'Music', 'rating': 4.6, 'price': 'Free'},\n",
        "    {'app_name': 'Candy Crush Saga', 'category': 'Games', 'rating': 4.3, 'price': np.nan},\n",
        "    {'app_name': 'Zoom', 'category': 'Business', 'rating': 4.2, 'price': 'Free'}\n",
        "]\n",
        "\n",
        "# Create a DataFrame from the list of dictionaries\n",
        "df = pd.DataFrame(data)\n",
        "\n",
        "# Print the DataFrame\n",
        "print(df)\n",
        "\n",
        "# Check for missing data\n",
        "print(df.isnull())\n",
        "\n",
        "# Check for non-missing data\n",
        "print(df.notnull())\n",
        "\n",
        "# Drop rows with missing data\n",
        "df = df.dropna()\n",
        "\n",
        "# Fill missing data with a specified value\n",
        "df = df.fillna({'rating': 0, 'price': 'Unknown'})\n",
        "\n",
        "# Replace specific values in the DataFrame\n",
        "df = df.replace({'category': {'Music': 'Audio'}})\n",
        "\n",
        "# Fill missing data with interpolated values\n",
        "df = df.interpolate()\n",
        "\n",
        "# Print the cleaned DataFrame\n",
        "print(df)"
      ],
      "metadata": {
        "id": "6_RZWvErHsvx",
        "colab": {
          "base_uri": "https://localhost:8080/",
          "height": 0
        },
        "outputId": "d5fdd930-d010-4be1-899b-d27e9d0c069a"
      },
      "execution_count": 9,
      "outputs": [
        {
          "output_type": "stream",
          "name": "stdout",
          "text": [
            "           app_name       category  rating price\n",
            "0          WhatsApp  Communication     4.4  Free\n",
            "1         Instagram         Social     NaN  Free\n",
            "2           Spotify          Music     4.6  Free\n",
            "3  Candy Crush Saga          Games     4.3   NaN\n",
            "4              Zoom       Business     4.2  Free\n",
            "   app_name  category  rating  price\n",
            "0     False     False   False  False\n",
            "1     False     False    True  False\n",
            "2     False     False   False  False\n",
            "3     False     False   False   True\n",
            "4     False     False   False  False\n",
            "   app_name  category  rating  price\n",
            "0      True      True    True   True\n",
            "1      True      True   False   True\n",
            "2      True      True    True   True\n",
            "3      True      True    True  False\n",
            "4      True      True    True   True\n",
            "   app_name       category  rating price\n",
            "0  WhatsApp  Communication     4.4  Free\n",
            "2   Spotify          Audio     4.6  Free\n",
            "4      Zoom       Business     4.2  Free\n"
          ]
        }
      ]
    },
    {
      "cell_type": "markdown",
      "source": [
        "Perform the Hierarchical Indexing in the above created dataset."
      ],
      "metadata": {
        "id": "T4x9hJGdKoN8"
      }
    },
    {
      "cell_type": "code",
      "source": [
        "import pandas as pd\n",
        "\n",
        "# Create a DataFrame\n",
        "data = {\n",
        "    'app_name': ['WhatsApp', 'Instagram', 'Spotify', 'Candy Crush Saga', 'Zoom'],\n",
        "    'category': ['Communication', 'Social', 'Music', 'Games', 'Business'],\n",
        "    'rating': [4.4, 4.5, 4.6, 4.3, 4.2],\n",
        "    'price': ['Free', 'Free', 'Free', 'Free', 'Free']\n",
        "}\n",
        "\n",
        "df = pd.DataFrame(data)\n",
        "\n",
        "# Set hierarchical index\n",
        "df = df.set_index(['app_name', 'category'])\n",
        "\n",
        "# Print the DataFrame\n",
        "print(df)"
      ],
      "metadata": {
        "colab": {
          "base_uri": "https://localhost:8080/",
          "height": 0
        },
        "id": "tmAHVxMmKpFP",
        "outputId": "8f2963bd-e487-4943-8fac-6001727d6d7e"
      },
      "execution_count": 14,
      "outputs": [
        {
          "output_type": "stream",
          "name": "stdout",
          "text": [
            "                                rating price\n",
            "app_name         category                   \n",
            "WhatsApp         Communication     4.4  Free\n",
            "Instagram        Social            4.5  Free\n",
            "Spotify          Music             4.6  Free\n",
            "Candy Crush Saga Games             4.3  Free\n",
            "Zoom             Business          4.2  Free\n"
          ]
        }
      ]
    },
    {
      "cell_type": "markdown",
      "source": [],
      "metadata": {
        "id": "Wseojp1JHtNN"
      }
    }
  ]
}